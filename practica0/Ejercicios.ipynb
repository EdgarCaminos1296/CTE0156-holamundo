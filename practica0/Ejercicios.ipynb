{
 "cells": [
  {
   "cell_type": "markdown",
   "metadata": {},
   "source": [
    "Ejercicio 1\n",
    "Crear un diccionario de tareas diarias llamado lunes con las llaves trabajo, cocinar, comprar y dormir (o lo que sea que hagan en el transcurso de un día).\n",
    "\n",
    "Cada uno de los elementos también debe ser una lista de dos o tres actividades basadas en lo que podría hacer en un lunes típico. No es importante lo que esté en las listas, solo que completen el ejercicio."
   ]
  },
  {
   "cell_type": "code",
   "execution_count": 2,
   "metadata": {},
   "outputs": [
    {
     "name": "stdout",
     "output_type": "stream",
     "text": [
      "dict_values([['tareas', 'presentaciones'], ['cocinar', 'limpiar'], ['ejercicios', 'relax'], ['videojuegos', ' redes sociales']])\n"
     ]
    }
   ],
   "source": [
    "Lunes = {\"estudio\": ['tareas', 'presentaciones'],\n",
    "        \"cocina\": ['cocinar', 'limpiar'],\n",
    "        \"hacer ejercicio\": ['ejercicios', 'relax'],\n",
    "        \"diversion\": ['videojuegos', ' redes sociales']}\n",
    "print( Lunes .values())"
   ]
  },
  {
   "cell_type": "markdown",
   "metadata": {},
   "source": [
    "Ejercicio 2\n",
    "Escribir un bucle que recorra los elementos de las tareas de su diccionario lunes (del ejercicio 1) y que realice las siguientes operaciones en cada etapa del bucle:\n",
    "\n",
    "Imprimir la cadena \"Actividad:\" seguida del nombre del elemento actual en el diccionario.\n",
    "\n",
    "Imprimir la cadena \"Tareas:\" seguida de la lista de tareas asociada con la actividad actual.\n"
   ]
  },
  {
   "cell_type": "code",
   "execution_count": 10,
   "metadata": {},
   "outputs": [
    {
     "name": "stdout",
     "output_type": "stream",
     "text": [
      "Actividades:estudio\n",
      "Tareas: ['tareas', 'presentaciones']\n",
      "Actividades:cocina\n",
      "Tareas: ['cocinar', 'limpiar']\n",
      "Actividades:hacer ejercicio\n",
      "Tareas: ['ejercicios', 'relax']\n",
      "Actividades:diversion\n",
      "Tareas: ['videojuegos', ' redes sociales']\n"
     ]
    }
   ],
   "source": [
    "filas = range (0)\n",
    "columnas=range(0)\n",
    "for i in filas:\n",
    "    for j in columnas:\n",
    "        ('Actividad:', Lunes.keys())\n",
    "        ('Tareas', Lunes.values())\n",
    "for i in Lunes.keys():\n",
    "    print('Actividades:'+i)\n",
    "    print('Tareas:', Lunes[i])"
   ]
  },
  {
   "cell_type": "code",
   "execution_count": null,
   "metadata": {},
   "outputs": [],
   "source": []
  }
 ],
 "metadata": {
  "kernelspec": {
   "display_name": "Python 3",
   "language": "python",
   "name": "python3"
  },
  "language_info": {
   "codemirror_mode": {
    "name": "ipython",
    "version": 3
   },
   "file_extension": ".py",
   "mimetype": "text/x-python",
   "name": "python",
   "nbconvert_exporter": "python",
   "pygments_lexer": "ipython3",
   "version": "3.7.6"
  }
 },
 "nbformat": 4,
 "nbformat_minor": 4
}
